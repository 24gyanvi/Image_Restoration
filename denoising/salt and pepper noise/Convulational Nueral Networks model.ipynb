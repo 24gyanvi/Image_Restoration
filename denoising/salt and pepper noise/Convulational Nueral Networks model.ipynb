{
  "nbformat": 4,
  "nbformat_minor": 0,
  "metadata": {
    "colab": {
      "name": "Salt Pepper Denoising CNN.ipynb",
      "provenance": [],
      "collapsed_sections": []
    },
    "kernelspec": {
      "display_name": "Python 3",
      "name": "python3"
    },
    "language_info": {
      "name": "python"
    },
    "widgets": {
      "application/vnd.jupyter.widget-state+json": {
        "2287fcf15ede4ac7bee41c44c0a3c5c6": {
          "model_module": "@jupyter-widgets/controls",
          "model_name": "HBoxModel",
          "model_module_version": "1.5.0",
          "state": {
            "_view_name": "HBoxView",
            "_dom_classes": [],
            "_model_name": "HBoxModel",
            "_view_module": "@jupyter-widgets/controls",
            "_model_module_version": "1.5.0",
            "_view_count": null,
            "_view_module_version": "1.5.0",
            "box_style": "",
            "layout": "IPY_MODEL_cbae13b491904c15b37cddaaee26f23d",
            "_model_module": "@jupyter-widgets/controls",
            "children": [
              "IPY_MODEL_5befbee30755431d939184858a025bd0",
              "IPY_MODEL_27b0be65a3ec4ceda0fe9882ba3c6654",
              "IPY_MODEL_717e80e42d734db2ab88e4775ed1e62d"
            ]
          }
        },
        "cbae13b491904c15b37cddaaee26f23d": {
          "model_module": "@jupyter-widgets/base",
          "model_name": "LayoutModel",
          "model_module_version": "1.2.0",
          "state": {
            "_view_name": "LayoutView",
            "grid_template_rows": null,
            "right": null,
            "justify_content": null,
            "_view_module": "@jupyter-widgets/base",
            "overflow": null,
            "_model_module_version": "1.2.0",
            "_view_count": null,
            "flex_flow": null,
            "width": null,
            "min_width": null,
            "border": null,
            "align_items": null,
            "bottom": null,
            "_model_module": "@jupyter-widgets/base",
            "top": null,
            "grid_column": null,
            "overflow_y": null,
            "overflow_x": null,
            "grid_auto_flow": null,
            "grid_area": null,
            "grid_template_columns": null,
            "flex": null,
            "_model_name": "LayoutModel",
            "justify_items": null,
            "grid_row": null,
            "max_height": null,
            "align_content": null,
            "visibility": null,
            "align_self": null,
            "height": null,
            "min_height": null,
            "padding": null,
            "grid_auto_rows": null,
            "grid_gap": null,
            "max_width": null,
            "order": null,
            "_view_module_version": "1.2.0",
            "grid_template_areas": null,
            "object_position": null,
            "object_fit": null,
            "grid_auto_columns": null,
            "margin": null,
            "display": null,
            "left": null
          }
        },
        "5befbee30755431d939184858a025bd0": {
          "model_module": "@jupyter-widgets/controls",
          "model_name": "HTMLModel",
          "model_module_version": "1.5.0",
          "state": {
            "_view_name": "HTMLView",
            "style": "IPY_MODEL_d1d6e084929f43ada919a40e87c8d9a3",
            "_dom_classes": [],
            "description": "",
            "_model_name": "HTMLModel",
            "placeholder": "​",
            "_view_module": "@jupyter-widgets/controls",
            "_model_module_version": "1.5.0",
            "value": "100%",
            "_view_count": null,
            "_view_module_version": "1.5.0",
            "description_tooltip": null,
            "_model_module": "@jupyter-widgets/controls",
            "layout": "IPY_MODEL_c928f54286fc4f239cf443c9db0af2fc"
          }
        },
        "27b0be65a3ec4ceda0fe9882ba3c6654": {
          "model_module": "@jupyter-widgets/controls",
          "model_name": "FloatProgressModel",
          "model_module_version": "1.5.0",
          "state": {
            "_view_name": "ProgressView",
            "style": "IPY_MODEL_1b0fbf01074b451eb67cabecd55f7527",
            "_dom_classes": [],
            "description": "",
            "_model_name": "FloatProgressModel",
            "bar_style": "success",
            "max": 51,
            "_view_module": "@jupyter-widgets/controls",
            "_model_module_version": "1.5.0",
            "value": 51,
            "_view_count": null,
            "_view_module_version": "1.5.0",
            "orientation": "horizontal",
            "min": 0,
            "description_tooltip": null,
            "_model_module": "@jupyter-widgets/controls",
            "layout": "IPY_MODEL_237ce28384ba4fd483ead223682d5174"
          }
        },
        "717e80e42d734db2ab88e4775ed1e62d": {
          "model_module": "@jupyter-widgets/controls",
          "model_name": "HTMLModel",
          "model_module_version": "1.5.0",
          "state": {
            "_view_name": "HTMLView",
            "style": "IPY_MODEL_0099ee410e5b42749b41fa5cba44c1dc",
            "_dom_classes": [],
            "description": "",
            "_model_name": "HTMLModel",
            "placeholder": "​",
            "_view_module": "@jupyter-widgets/controls",
            "_model_module_version": "1.5.0",
            "value": " 51/51 [00:10&lt;00:00,  4.88it/s]",
            "_view_count": null,
            "_view_module_version": "1.5.0",
            "description_tooltip": null,
            "_model_module": "@jupyter-widgets/controls",
            "layout": "IPY_MODEL_b2b19e652fc743499e0416e16e4c550b"
          }
        },
        "d1d6e084929f43ada919a40e87c8d9a3": {
          "model_module": "@jupyter-widgets/controls",
          "model_name": "DescriptionStyleModel",
          "model_module_version": "1.5.0",
          "state": {
            "_view_name": "StyleView",
            "_model_name": "DescriptionStyleModel",
            "description_width": "",
            "_view_module": "@jupyter-widgets/base",
            "_model_module_version": "1.5.0",
            "_view_count": null,
            "_view_module_version": "1.2.0",
            "_model_module": "@jupyter-widgets/controls"
          }
        },
        "c928f54286fc4f239cf443c9db0af2fc": {
          "model_module": "@jupyter-widgets/base",
          "model_name": "LayoutModel",
          "model_module_version": "1.2.0",
          "state": {
            "_view_name": "LayoutView",
            "grid_template_rows": null,
            "right": null,
            "justify_content": null,
            "_view_module": "@jupyter-widgets/base",
            "overflow": null,
            "_model_module_version": "1.2.0",
            "_view_count": null,
            "flex_flow": null,
            "width": null,
            "min_width": null,
            "border": null,
            "align_items": null,
            "bottom": null,
            "_model_module": "@jupyter-widgets/base",
            "top": null,
            "grid_column": null,
            "overflow_y": null,
            "overflow_x": null,
            "grid_auto_flow": null,
            "grid_area": null,
            "grid_template_columns": null,
            "flex": null,
            "_model_name": "LayoutModel",
            "justify_items": null,
            "grid_row": null,
            "max_height": null,
            "align_content": null,
            "visibility": null,
            "align_self": null,
            "height": null,
            "min_height": null,
            "padding": null,
            "grid_auto_rows": null,
            "grid_gap": null,
            "max_width": null,
            "order": null,
            "_view_module_version": "1.2.0",
            "grid_template_areas": null,
            "object_position": null,
            "object_fit": null,
            "grid_auto_columns": null,
            "margin": null,
            "display": null,
            "left": null
          }
        },
        "1b0fbf01074b451eb67cabecd55f7527": {
          "model_module": "@jupyter-widgets/controls",
          "model_name": "ProgressStyleModel",
          "model_module_version": "1.5.0",
          "state": {
            "_view_name": "StyleView",
            "_model_name": "ProgressStyleModel",
            "description_width": "",
            "_view_module": "@jupyter-widgets/base",
            "_model_module_version": "1.5.0",
            "_view_count": null,
            "_view_module_version": "1.2.0",
            "bar_color": null,
            "_model_module": "@jupyter-widgets/controls"
          }
        },
        "237ce28384ba4fd483ead223682d5174": {
          "model_module": "@jupyter-widgets/base",
          "model_name": "LayoutModel",
          "model_module_version": "1.2.0",
          "state": {
            "_view_name": "LayoutView",
            "grid_template_rows": null,
            "right": null,
            "justify_content": null,
            "_view_module": "@jupyter-widgets/base",
            "overflow": null,
            "_model_module_version": "1.2.0",
            "_view_count": null,
            "flex_flow": null,
            "width": null,
            "min_width": null,
            "border": null,
            "align_items": null,
            "bottom": null,
            "_model_module": "@jupyter-widgets/base",
            "top": null,
            "grid_column": null,
            "overflow_y": null,
            "overflow_x": null,
            "grid_auto_flow": null,
            "grid_area": null,
            "grid_template_columns": null,
            "flex": null,
            "_model_name": "LayoutModel",
            "justify_items": null,
            "grid_row": null,
            "max_height": null,
            "align_content": null,
            "visibility": null,
            "align_self": null,
            "height": null,
            "min_height": null,
            "padding": null,
            "grid_auto_rows": null,
            "grid_gap": null,
            "max_width": null,
            "order": null,
            "_view_module_version": "1.2.0",
            "grid_template_areas": null,
            "object_position": null,
            "object_fit": null,
            "grid_auto_columns": null,
            "margin": null,
            "display": null,
            "left": null
          }
        },
        "0099ee410e5b42749b41fa5cba44c1dc": {
          "model_module": "@jupyter-widgets/controls",
          "model_name": "DescriptionStyleModel",
          "model_module_version": "1.5.0",
          "state": {
            "_view_name": "StyleView",
            "_model_name": "DescriptionStyleModel",
            "description_width": "",
            "_view_module": "@jupyter-widgets/base",
            "_model_module_version": "1.5.0",
            "_view_count": null,
            "_view_module_version": "1.2.0",
            "_model_module": "@jupyter-widgets/controls"
          }
        },
        "b2b19e652fc743499e0416e16e4c550b": {
          "model_module": "@jupyter-widgets/base",
          "model_name": "LayoutModel",
          "model_module_version": "1.2.0",
          "state": {
            "_view_name": "LayoutView",
            "grid_template_rows": null,
            "right": null,
            "justify_content": null,
            "_view_module": "@jupyter-widgets/base",
            "overflow": null,
            "_model_module_version": "1.2.0",
            "_view_count": null,
            "flex_flow": null,
            "width": null,
            "min_width": null,
            "border": null,
            "align_items": null,
            "bottom": null,
            "_model_module": "@jupyter-widgets/base",
            "top": null,
            "grid_column": null,
            "overflow_y": null,
            "overflow_x": null,
            "grid_auto_flow": null,
            "grid_area": null,
            "grid_template_columns": null,
            "flex": null,
            "_model_name": "LayoutModel",
            "justify_items": null,
            "grid_row": null,
            "max_height": null,
            "align_content": null,
            "visibility": null,
            "align_self": null,
            "height": null,
            "min_height": null,
            "padding": null,
            "grid_auto_rows": null,
            "grid_gap": null,
            "max_width": null,
            "order": null,
            "_view_module_version": "1.2.0",
            "grid_template_areas": null,
            "object_position": null,
            "object_fit": null,
            "grid_auto_columns": null,
            "margin": null,
            "display": null,
            "left": null
          }
        },
        "9ce238d7e5d04ef78f92193e24565621": {
          "model_module": "@jupyter-widgets/controls",
          "model_name": "HBoxModel",
          "model_module_version": "1.5.0",
          "state": {
            "_view_name": "HBoxView",
            "_dom_classes": [],
            "_model_name": "HBoxModel",
            "_view_module": "@jupyter-widgets/controls",
            "_model_module_version": "1.5.0",
            "_view_count": null,
            "_view_module_version": "1.5.0",
            "box_style": "",
            "layout": "IPY_MODEL_1c9f5550335646ed829e051c2dc4d40c",
            "_model_module": "@jupyter-widgets/controls",
            "children": [
              "IPY_MODEL_d1de1a9bad9d406b8202aa0c10c30aa2",
              "IPY_MODEL_f018a1cda1c94bf5ac856d3c65a9d982",
              "IPY_MODEL_1f7f5c6127494852aa966d021278fcdf"
            ]
          }
        },
        "1c9f5550335646ed829e051c2dc4d40c": {
          "model_module": "@jupyter-widgets/base",
          "model_name": "LayoutModel",
          "model_module_version": "1.2.0",
          "state": {
            "_view_name": "LayoutView",
            "grid_template_rows": null,
            "right": null,
            "justify_content": null,
            "_view_module": "@jupyter-widgets/base",
            "overflow": null,
            "_model_module_version": "1.2.0",
            "_view_count": null,
            "flex_flow": null,
            "width": null,
            "min_width": null,
            "border": null,
            "align_items": null,
            "bottom": null,
            "_model_module": "@jupyter-widgets/base",
            "top": null,
            "grid_column": null,
            "overflow_y": null,
            "overflow_x": null,
            "grid_auto_flow": null,
            "grid_area": null,
            "grid_template_columns": null,
            "flex": null,
            "_model_name": "LayoutModel",
            "justify_items": null,
            "grid_row": null,
            "max_height": null,
            "align_content": null,
            "visibility": null,
            "align_self": null,
            "height": null,
            "min_height": null,
            "padding": null,
            "grid_auto_rows": null,
            "grid_gap": null,
            "max_width": null,
            "order": null,
            "_view_module_version": "1.2.0",
            "grid_template_areas": null,
            "object_position": null,
            "object_fit": null,
            "grid_auto_columns": null,
            "margin": null,
            "display": null,
            "left": null
          }
        },
        "d1de1a9bad9d406b8202aa0c10c30aa2": {
          "model_module": "@jupyter-widgets/controls",
          "model_name": "HTMLModel",
          "model_module_version": "1.5.0",
          "state": {
            "_view_name": "HTMLView",
            "style": "IPY_MODEL_c5cfc08ce2da4750a4eae5906766f1f5",
            "_dom_classes": [],
            "description": "",
            "_model_name": "HTMLModel",
            "placeholder": "​",
            "_view_module": "@jupyter-widgets/controls",
            "_model_module_version": "1.5.0",
            "value": "100%",
            "_view_count": null,
            "_view_module_version": "1.5.0",
            "description_tooltip": null,
            "_model_module": "@jupyter-widgets/controls",
            "layout": "IPY_MODEL_7ff66c70cefa40e7aab7efeeeaef09e5"
          }
        },
        "f018a1cda1c94bf5ac856d3c65a9d982": {
          "model_module": "@jupyter-widgets/controls",
          "model_name": "FloatProgressModel",
          "model_module_version": "1.5.0",
          "state": {
            "_view_name": "ProgressView",
            "style": "IPY_MODEL_0fd314a5b6c5405c8080a48f55145c6e",
            "_dom_classes": [],
            "description": "",
            "_model_name": "FloatProgressModel",
            "bar_style": "success",
            "max": 51,
            "_view_module": "@jupyter-widgets/controls",
            "_model_module_version": "1.5.0",
            "value": 51,
            "_view_count": null,
            "_view_module_version": "1.5.0",
            "orientation": "horizontal",
            "min": 0,
            "description_tooltip": null,
            "_model_module": "@jupyter-widgets/controls",
            "layout": "IPY_MODEL_04fe14545fbd45d4a2c057c1a6cada0f"
          }
        },
        "1f7f5c6127494852aa966d021278fcdf": {
          "model_module": "@jupyter-widgets/controls",
          "model_name": "HTMLModel",
          "model_module_version": "1.5.0",
          "state": {
            "_view_name": "HTMLView",
            "style": "IPY_MODEL_28fac6b62fb94ba1b50658ae519515ee",
            "_dom_classes": [],
            "description": "",
            "_model_name": "HTMLModel",
            "placeholder": "​",
            "_view_module": "@jupyter-widgets/controls",
            "_model_module_version": "1.5.0",
            "value": " 51/51 [00:11&lt;00:00,  4.36it/s]",
            "_view_count": null,
            "_view_module_version": "1.5.0",
            "description_tooltip": null,
            "_model_module": "@jupyter-widgets/controls",
            "layout": "IPY_MODEL_60fbb793751a499dae8dd3252b50f702"
          }
        },
        "c5cfc08ce2da4750a4eae5906766f1f5": {
          "model_module": "@jupyter-widgets/controls",
          "model_name": "DescriptionStyleModel",
          "model_module_version": "1.5.0",
          "state": {
            "_view_name": "StyleView",
            "_model_name": "DescriptionStyleModel",
            "description_width": "",
            "_view_module": "@jupyter-widgets/base",
            "_model_module_version": "1.5.0",
            "_view_count": null,
            "_view_module_version": "1.2.0",
            "_model_module": "@jupyter-widgets/controls"
          }
        },
        "7ff66c70cefa40e7aab7efeeeaef09e5": {
          "model_module": "@jupyter-widgets/base",
          "model_name": "LayoutModel",
          "model_module_version": "1.2.0",
          "state": {
            "_view_name": "LayoutView",
            "grid_template_rows": null,
            "right": null,
            "justify_content": null,
            "_view_module": "@jupyter-widgets/base",
            "overflow": null,
            "_model_module_version": "1.2.0",
            "_view_count": null,
            "flex_flow": null,
            "width": null,
            "min_width": null,
            "border": null,
            "align_items": null,
            "bottom": null,
            "_model_module": "@jupyter-widgets/base",
            "top": null,
            "grid_column": null,
            "overflow_y": null,
            "overflow_x": null,
            "grid_auto_flow": null,
            "grid_area": null,
            "grid_template_columns": null,
            "flex": null,
            "_model_name": "LayoutModel",
            "justify_items": null,
            "grid_row": null,
            "max_height": null,
            "align_content": null,
            "visibility": null,
            "align_self": null,
            "height": null,
            "min_height": null,
            "padding": null,
            "grid_auto_rows": null,
            "grid_gap": null,
            "max_width": null,
            "order": null,
            "_view_module_version": "1.2.0",
            "grid_template_areas": null,
            "object_position": null,
            "object_fit": null,
            "grid_auto_columns": null,
            "margin": null,
            "display": null,
            "left": null
          }
        },
        "0fd314a5b6c5405c8080a48f55145c6e": {
          "model_module": "@jupyter-widgets/controls",
          "model_name": "ProgressStyleModel",
          "model_module_version": "1.5.0",
          "state": {
            "_view_name": "StyleView",
            "_model_name": "ProgressStyleModel",
            "description_width": "",
            "_view_module": "@jupyter-widgets/base",
            "_model_module_version": "1.5.0",
            "_view_count": null,
            "_view_module_version": "1.2.0",
            "bar_color": null,
            "_model_module": "@jupyter-widgets/controls"
          }
        },
        "04fe14545fbd45d4a2c057c1a6cada0f": {
          "model_module": "@jupyter-widgets/base",
          "model_name": "LayoutModel",
          "model_module_version": "1.2.0",
          "state": {
            "_view_name": "LayoutView",
            "grid_template_rows": null,
            "right": null,
            "justify_content": null,
            "_view_module": "@jupyter-widgets/base",
            "overflow": null,
            "_model_module_version": "1.2.0",
            "_view_count": null,
            "flex_flow": null,
            "width": null,
            "min_width": null,
            "border": null,
            "align_items": null,
            "bottom": null,
            "_model_module": "@jupyter-widgets/base",
            "top": null,
            "grid_column": null,
            "overflow_y": null,
            "overflow_x": null,
            "grid_auto_flow": null,
            "grid_area": null,
            "grid_template_columns": null,
            "flex": null,
            "_model_name": "LayoutModel",
            "justify_items": null,
            "grid_row": null,
            "max_height": null,
            "align_content": null,
            "visibility": null,
            "align_self": null,
            "height": null,
            "min_height": null,
            "padding": null,
            "grid_auto_rows": null,
            "grid_gap": null,
            "max_width": null,
            "order": null,
            "_view_module_version": "1.2.0",
            "grid_template_areas": null,
            "object_position": null,
            "object_fit": null,
            "grid_auto_columns": null,
            "margin": null,
            "display": null,
            "left": null
          }
        },
        "28fac6b62fb94ba1b50658ae519515ee": {
          "model_module": "@jupyter-widgets/controls",
          "model_name": "DescriptionStyleModel",
          "model_module_version": "1.5.0",
          "state": {
            "_view_name": "StyleView",
            "_model_name": "DescriptionStyleModel",
            "description_width": "",
            "_view_module": "@jupyter-widgets/base",
            "_model_module_version": "1.5.0",
            "_view_count": null,
            "_view_module_version": "1.2.0",
            "_model_module": "@jupyter-widgets/controls"
          }
        },
        "60fbb793751a499dae8dd3252b50f702": {
          "model_module": "@jupyter-widgets/base",
          "model_name": "LayoutModel",
          "model_module_version": "1.2.0",
          "state": {
            "_view_name": "LayoutView",
            "grid_template_rows": null,
            "right": null,
            "justify_content": null,
            "_view_module": "@jupyter-widgets/base",
            "overflow": null,
            "_model_module_version": "1.2.0",
            "_view_count": null,
            "flex_flow": null,
            "width": null,
            "min_width": null,
            "border": null,
            "align_items": null,
            "bottom": null,
            "_model_module": "@jupyter-widgets/base",
            "top": null,
            "grid_column": null,
            "overflow_y": null,
            "overflow_x": null,
            "grid_auto_flow": null,
            "grid_area": null,
            "grid_template_columns": null,
            "flex": null,
            "_model_name": "LayoutModel",
            "justify_items": null,
            "grid_row": null,
            "max_height": null,
            "align_content": null,
            "visibility": null,
            "align_self": null,
            "height": null,
            "min_height": null,
            "padding": null,
            "grid_auto_rows": null,
            "grid_gap": null,
            "max_width": null,
            "order": null,
            "_view_module_version": "1.2.0",
            "grid_template_areas": null,
            "object_position": null,
            "object_fit": null,
            "grid_auto_columns": null,
            "margin": null,
            "display": null,
            "left": null
          }
        }
      }
    }
  },
  "cells": [
    {
      "cell_type": "code",
      "metadata": {
        "id": "Z65crAcEBXBS"
      },
      "source": [
        "import os\n",
        "import tensorflow as tf\n",
        "from tqdm.notebook import tqdm\n",
        "import matplotlib.pyplot as plt\n",
        "from tensorflow.keras.models import Model\n",
        "import pandas as pd\n",
        "import numpy as np\n",
        "import os\n",
        "import random\n",
        "from tensorflow.keras import models\n",
        "from tensorflow.keras import layers\n",
        "from numpy import asarray\n",
        "import tensorflow as tf\n",
        "import shutil \n",
        "from keras.preprocessing.image import load_img\n",
        "from keras.preprocessing.image import img_to_array\n",
        "import matplotlib.pyplot as plt\n",
        "%matplotlib inline"
      ],
      "execution_count": null,
      "outputs": []
    },
    {
      "cell_type": "code",
      "metadata": {
        "id": "8Dhf21DrSRAg"
      },
      "source": [
        "# pip install torch===1.4.0 torchvision===0.5.0 -f https://download.pytorch.org/whl/torch_stable.html"
      ],
      "execution_count": null,
      "outputs": []
    },
    {
      "cell_type": "code",
      "metadata": {
        "colab": {
          "base_uri": "https://localhost:8080/"
        },
        "id": "v7dSRIVCaRi5",
        "outputId": "29d51a0d-ec0f-4832-a9b8-d0831a1113f7"
      },
      "source": [
        "from google.colab import drive\n",
        "drive.mount('/content/drive')"
      ],
      "execution_count": null,
      "outputs": [
        {
          "output_type": "stream",
          "name": "stdout",
          "text": [
            "Mounted at /content/drive\n"
          ]
        }
      ]
    },
    {
      "cell_type": "code",
      "metadata": {
        "id": "61Ctk2soBcWU"
      },
      "source": [
        "# from google.colab import drive\n",
        "# drive.mount('/content/drive')"
      ],
      "execution_count": null,
      "outputs": []
    },
    {
      "cell_type": "code",
      "metadata": {
        "id": "aFNj7ZNbBdNA"
      },
      "source": [
        "bad_frames = '/content/drive/MyDrive/final changes/input images'"
      ],
      "execution_count": null,
      "outputs": []
    },
    {
      "cell_type": "code",
      "metadata": {
        "colab": {
          "base_uri": "https://localhost:8080/",
          "height": 49,
          "referenced_widgets": [
            "2287fcf15ede4ac7bee41c44c0a3c5c6",
            "cbae13b491904c15b37cddaaee26f23d",
            "5befbee30755431d939184858a025bd0",
            "27b0be65a3ec4ceda0fe9882ba3c6654",
            "717e80e42d734db2ab88e4775ed1e62d",
            "d1d6e084929f43ada919a40e87c8d9a3",
            "c928f54286fc4f239cf443c9db0af2fc",
            "1b0fbf01074b451eb67cabecd55f7527",
            "237ce28384ba4fd483ead223682d5174",
            "0099ee410e5b42749b41fa5cba44c1dc",
            "b2b19e652fc743499e0416e16e4c550b"
          ]
        },
        "id": "3ZuofoXVB9qu",
        "outputId": "33bba2c3-d55c-4b30-c251-7a1ef31780d6"
      },
      "source": [
        "noisy_frames = []\n",
        "for file in tqdm(sorted(os.listdir(bad_frames))):\n",
        "  if any(extension in file for extension in ['.jpg', 'jpeg', '.png']):\n",
        "    image = tf.keras.preprocessing.image.load_img(bad_frames + '/' + file, target_size=(100,100))\n",
        "    image = tf.keras.preprocessing.image.img_to_array(image).astype('float32') / 255\n",
        "    noisy_frames.append(image)\n",
        "\n",
        "noisy_frames = np.array(noisy_frames)"
      ],
      "execution_count": null,
      "outputs": [
        {
          "output_type": "display_data",
          "data": {
            "application/vnd.jupyter.widget-view+json": {
              "model_id": "2287fcf15ede4ac7bee41c44c0a3c5c6",
              "version_minor": 0,
              "version_major": 2
            },
            "text/plain": [
              "  0%|          | 0/51 [00:00<?, ?it/s]"
            ]
          },
          "metadata": {}
        }
      ]
    },
    {
      "cell_type": "code",
      "metadata": {
        "colab": {
          "base_uri": "https://localhost:8080/"
        },
        "id": "-DB60dmpCAOq",
        "outputId": "3fd50bd0-e42a-44c7-e597-6634e9e56470"
      },
      "source": [
        "print(noisy_frames.shape)"
      ],
      "execution_count": null,
      "outputs": [
        {
          "output_type": "stream",
          "name": "stdout",
          "text": [
            "(51, 100, 100, 3)\n"
          ]
        }
      ]
    },
    {
      "cell_type": "code",
      "metadata": {
        "id": "iuAgovDNFjFK"
      },
      "source": [
        "good_frames = '/content/drive/MyDrive/final changes/target images'"
      ],
      "execution_count": null,
      "outputs": []
    },
    {
      "cell_type": "code",
      "metadata": {
        "colab": {
          "base_uri": "https://localhost:8080/",
          "height": 49,
          "referenced_widgets": [
            "9ce238d7e5d04ef78f92193e24565621",
            "1c9f5550335646ed829e051c2dc4d40c",
            "d1de1a9bad9d406b8202aa0c10c30aa2",
            "f018a1cda1c94bf5ac856d3c65a9d982",
            "1f7f5c6127494852aa966d021278fcdf",
            "c5cfc08ce2da4750a4eae5906766f1f5",
            "7ff66c70cefa40e7aab7efeeeaef09e5",
            "0fd314a5b6c5405c8080a48f55145c6e",
            "04fe14545fbd45d4a2c057c1a6cada0f",
            "28fac6b62fb94ba1b50658ae519515ee",
            "60fbb793751a499dae8dd3252b50f702"
          ]
        },
        "id": "D6jaW9BrFlua",
        "outputId": "90c102d9-a3fa-49c2-c388-674791fcbb19"
      },
      "source": [
        "clean_frames = []\n",
        "for file in tqdm(sorted(os.listdir(good_frames))):\n",
        "  if any(extension in file for extension in ['.jpg', 'jpeg', '.png']):\n",
        "    image = tf.keras.preprocessing.image.load_img(good_frames + '/' + file, target_size=(100,100))\n",
        "    image = tf.keras.preprocessing.image.img_to_array(image).astype('float32') / 255\n",
        "    clean_frames.append(image)\n",
        "\n",
        "clean_frames = np.array(clean_frames)"
      ],
      "execution_count": null,
      "outputs": [
        {
          "output_type": "display_data",
          "data": {
            "application/vnd.jupyter.widget-view+json": {
              "model_id": "9ce238d7e5d04ef78f92193e24565621",
              "version_minor": 0,
              "version_major": 2
            },
            "text/plain": [
              "  0%|          | 0/51 [00:00<?, ?it/s]"
            ]
          },
          "metadata": {}
        }
      ]
    },
    {
      "cell_type": "code",
      "metadata": {
        "colab": {
          "base_uri": "https://localhost:8080/"
        },
        "id": "m800jDQjFoQF",
        "outputId": "743db673-b523-4e80-b0bc-3b59c34eeeda"
      },
      "source": [
        "print(clean_frames.shape)"
      ],
      "execution_count": null,
      "outputs": [
        {
          "output_type": "stream",
          "name": "stdout",
          "text": [
            "(51, 100, 100, 3)\n"
          ]
        }
      ]
    },
    {
      "cell_type": "code",
      "metadata": {
        "id": "xPj6M6eCFw_E"
      },
      "source": [
        "noisy_train = noisy_frames[0:round(len(noisy_frames)*0.8)]\n",
        "noisy_test = noisy_frames[round(len(noisy_frames)*0.8):]\n",
        "\n",
        "clean_train = clean_frames[0:round(len(clean_frames)*0.8)]\n",
        "clean_test = clean_frames[round(len(clean_frames)*0.8):]"
      ],
      "execution_count": null,
      "outputs": []
    },
    {
      "cell_type": "code",
      "metadata": {
        "colab": {
          "base_uri": "https://localhost:8080/"
        },
        "id": "egkJSiPFxTRa",
        "outputId": "bc78c804-0401-4074-e2bb-c7ff7148f21e"
      },
      "source": [
        "print(noisy_train.shape,noisy_test.shape)\n",
        "print(clean_train.shape,clean_test.shape)"
      ],
      "execution_count": null,
      "outputs": [
        {
          "output_type": "stream",
          "name": "stdout",
          "text": [
            "(41, 100, 100, 3) (10, 100, 100, 3)\n",
            "(41, 100, 100, 3) (10, 100, 100, 3)\n"
          ]
        }
      ]
    },
    {
      "cell_type": "code",
      "metadata": {
        "colab": {
          "base_uri": "https://localhost:8080/"
        },
        "id": "Amnwu8Bn4lWJ",
        "outputId": "44e5d6fa-21f5-44f8-c283-3a7582afe378"
      },
      "source": [
        "input_img = layers.Input(shape=(100, 100, 3))\n",
        "x = layers.Conv2D(100, (3, 3), padding='same')(input_img)\n",
        "x = layers.BatchNormalization()(x)\n",
        "x = layers.Activation('relu')(x)\n",
        "x = layers.MaxPooling2D((2, 2), padding='same')(x)\n",
        "x = layers.Conv2D(100, (3, 3), padding='same')(x)\n",
        "x = layers.BatchNormalization()(x)\n",
        "x = layers.Activation('relu')(x)\n",
        "encoded = layers.MaxPooling2D((2, 2), padding='same')(x)\n",
        "\n",
        "x = layers.Conv2D(100, (3, 3), padding='same')(encoded)\n",
        "x = layers.BatchNormalization()(x)\n",
        "x = layers.Activation('relu')(x)\n",
        "x = layers.UpSampling2D((2, 2))(x)\n",
        "x = layers.Conv2D(100, (3, 3), padding='same')(x)\n",
        "x = layers.BatchNormalization()(x)\n",
        "x = layers.Activation('relu')(x)\n",
        "x = layers.UpSampling2D((2, 2))(x)\n",
        "x = layers.Conv2D(3, (3, 3), padding='same')(x)\n",
        "x = layers.BatchNormalization()(x)\n",
        "decoded = layers.Activation('sigmoid')(x)\n",
        "\n",
        "model = Model(input_img, decoded)\n",
        "model.compile(optimizer='adam', loss='binary_crossentropy', metrics = ['accuracy'])\n",
        "model.summary()"
      ],
      "execution_count": null,
      "outputs": [
        {
          "output_type": "stream",
          "name": "stdout",
          "text": [
            "Model: \"model\"\n",
            "_________________________________________________________________\n",
            "Layer (type)                 Output Shape              Param #   \n",
            "=================================================================\n",
            "input_1 (InputLayer)         [(None, 100, 100, 3)]     0         \n",
            "_________________________________________________________________\n",
            "conv2d (Conv2D)              (None, 100, 100, 100)     2800      \n",
            "_________________________________________________________________\n",
            "batch_normalization (BatchNo (None, 100, 100, 100)     400       \n",
            "_________________________________________________________________\n",
            "activation (Activation)      (None, 100, 100, 100)     0         \n",
            "_________________________________________________________________\n",
            "max_pooling2d (MaxPooling2D) (None, 50, 50, 100)       0         \n",
            "_________________________________________________________________\n",
            "conv2d_1 (Conv2D)            (None, 50, 50, 100)       90100     \n",
            "_________________________________________________________________\n",
            "batch_normalization_1 (Batch (None, 50, 50, 100)       400       \n",
            "_________________________________________________________________\n",
            "activation_1 (Activation)    (None, 50, 50, 100)       0         \n",
            "_________________________________________________________________\n",
            "max_pooling2d_1 (MaxPooling2 (None, 25, 25, 100)       0         \n",
            "_________________________________________________________________\n",
            "conv2d_2 (Conv2D)            (None, 25, 25, 100)       90100     \n",
            "_________________________________________________________________\n",
            "batch_normalization_2 (Batch (None, 25, 25, 100)       400       \n",
            "_________________________________________________________________\n",
            "activation_2 (Activation)    (None, 25, 25, 100)       0         \n",
            "_________________________________________________________________\n",
            "up_sampling2d (UpSampling2D) (None, 50, 50, 100)       0         \n",
            "_________________________________________________________________\n",
            "conv2d_3 (Conv2D)            (None, 50, 50, 100)       90100     \n",
            "_________________________________________________________________\n",
            "batch_normalization_3 (Batch (None, 50, 50, 100)       400       \n",
            "_________________________________________________________________\n",
            "activation_3 (Activation)    (None, 50, 50, 100)       0         \n",
            "_________________________________________________________________\n",
            "up_sampling2d_1 (UpSampling2 (None, 100, 100, 100)     0         \n",
            "_________________________________________________________________\n",
            "conv2d_4 (Conv2D)            (None, 100, 100, 3)       2703      \n",
            "_________________________________________________________________\n",
            "batch_normalization_4 (Batch (None, 100, 100, 3)       12        \n",
            "_________________________________________________________________\n",
            "activation_4 (Activation)    (None, 100, 100, 3)       0         \n",
            "=================================================================\n",
            "Total params: 277,415\n",
            "Trainable params: 276,609\n",
            "Non-trainable params: 806\n",
            "_________________________________________________________________\n"
          ]
        }
      ]
    },
    {
      "cell_type": "code",
      "metadata": {
        "colab": {
          "base_uri": "https://localhost:8080/"
        },
        "id": "wqqGdqoVs7_f",
        "outputId": "a1f64464-d99f-48c4-cab0-2b16cde697c4"
      },
      "source": [
        "history = model.fit(\n",
        "    x=noisy_train,\n",
        "    y=clean_train,\n",
        "    epochs=100,\n",
        "    batch_size=32,\n",
        "    shuffle=True,\n",
        "    validation_data=(noisy_test, clean_test)\n",
        ")"
      ],
      "execution_count": null,
      "outputs": [
        {
          "output_type": "stream",
          "name": "stdout",
          "text": [
            "Epoch 1/100\n",
            "2/2 [==============================] - 9s 2s/step - loss: 0.7926 - accuracy: 0.3461 - val_loss: 0.7070 - val_accuracy: 0.7707\n",
            "Epoch 2/100\n",
            "2/2 [==============================] - 7s 2s/step - loss: 0.6009 - accuracy: 0.3433 - val_loss: 0.7700 - val_accuracy: 0.0579\n",
            "Epoch 3/100\n",
            "2/2 [==============================] - 7s 2s/step - loss: 0.5908 - accuracy: 0.3842 - val_loss: 0.8694 - val_accuracy: 0.0405\n",
            "Epoch 4/100\n",
            "2/2 [==============================] - 7s 2s/step - loss: 0.5877 - accuracy: 0.3854 - val_loss: 0.9534 - val_accuracy: 0.1401\n",
            "Epoch 5/100\n",
            "2/2 [==============================] - 7s 2s/step - loss: 0.5848 - accuracy: 0.3732 - val_loss: 0.9887 - val_accuracy: 0.8191\n",
            "Epoch 6/100\n",
            "2/2 [==============================] - 7s 2s/step - loss: 0.5853 - accuracy: 0.3736 - val_loss: 0.9724 - val_accuracy: 0.9543\n",
            "Epoch 7/100\n",
            "2/2 [==============================] - 7s 2s/step - loss: 0.5840 - accuracy: 0.3658 - val_loss: 0.9284 - val_accuracy: 0.9629\n",
            "Epoch 8/100\n",
            "2/2 [==============================] - 7s 2s/step - loss: 0.5825 - accuracy: 0.3559 - val_loss: 0.8731 - val_accuracy: 0.9581\n",
            "Epoch 9/100\n",
            "2/2 [==============================] - 7s 2s/step - loss: 0.5852 - accuracy: 0.3457 - val_loss: 0.8202 - val_accuracy: 0.9385\n",
            "Epoch 10/100\n",
            "2/2 [==============================] - 7s 2s/step - loss: 0.5847 - accuracy: 0.3455 - val_loss: 0.7750 - val_accuracy: 0.8947\n",
            "Epoch 11/100\n",
            "2/2 [==============================] - 7s 2s/step - loss: 0.5829 - accuracy: 0.3405 - val_loss: 0.7408 - val_accuracy: 0.8294\n",
            "Epoch 12/100\n",
            "2/2 [==============================] - 7s 2s/step - loss: 0.5846 - accuracy: 0.3455 - val_loss: 0.7158 - val_accuracy: 0.7497\n",
            "Epoch 13/100\n",
            "2/2 [==============================] - 7s 2s/step - loss: 0.5816 - accuracy: 0.3523 - val_loss: 0.7027 - val_accuracy: 0.6665\n",
            "Epoch 14/100\n",
            "2/2 [==============================] - 7s 2s/step - loss: 0.5802 - accuracy: 0.3644 - val_loss: 0.6997 - val_accuracy: 0.5036\n",
            "Epoch 15/100\n",
            "2/2 [==============================] - 7s 2s/step - loss: 0.5808 - accuracy: 0.3852 - val_loss: 0.6971 - val_accuracy: 0.2265\n",
            "Epoch 16/100\n",
            "2/2 [==============================] - 7s 2s/step - loss: 0.5822 - accuracy: 0.3820 - val_loss: 0.6911 - val_accuracy: 0.1922\n",
            "Epoch 17/100\n",
            "2/2 [==============================] - 7s 2s/step - loss: 0.5884 - accuracy: 0.3545 - val_loss: 0.6839 - val_accuracy: 0.2819\n",
            "Epoch 18/100\n",
            "2/2 [==============================] - 7s 2s/step - loss: 0.5790 - accuracy: 0.3286 - val_loss: 0.6793 - val_accuracy: 0.3494\n",
            "Epoch 19/100\n",
            "2/2 [==============================] - 7s 2s/step - loss: 0.5788 - accuracy: 0.3253 - val_loss: 0.6789 - val_accuracy: 0.2777\n",
            "Epoch 20/100\n",
            "2/2 [==============================] - 7s 2s/step - loss: 0.5799 - accuracy: 0.3278 - val_loss: 0.6800 - val_accuracy: 0.0989\n",
            "Epoch 21/100\n",
            "2/2 [==============================] - 7s 2s/step - loss: 0.5788 - accuracy: 0.3274 - val_loss: 0.6811 - val_accuracy: 0.0385\n",
            "Epoch 22/100\n",
            "2/2 [==============================] - 7s 2s/step - loss: 0.5788 - accuracy: 0.3290 - val_loss: 0.6813 - val_accuracy: 0.0287\n",
            "Epoch 23/100\n",
            "2/2 [==============================] - 7s 2s/step - loss: 0.5818 - accuracy: 0.3323 - val_loss: 0.6810 - val_accuracy: 0.0246\n",
            "Epoch 24/100\n",
            "2/2 [==============================] - 7s 2s/step - loss: 0.5786 - accuracy: 0.3432 - val_loss: 0.6808 - val_accuracy: 0.0239\n",
            "Epoch 25/100\n",
            "2/2 [==============================] - 7s 2s/step - loss: 0.5786 - accuracy: 0.3506 - val_loss: 0.6813 - val_accuracy: 0.0238\n",
            "Epoch 26/100\n",
            "2/2 [==============================] - 7s 2s/step - loss: 0.5835 - accuracy: 0.3524 - val_loss: 0.6819 - val_accuracy: 0.0237\n",
            "Epoch 27/100\n",
            "2/2 [==============================] - 7s 2s/step - loss: 0.5773 - accuracy: 0.3629 - val_loss: 0.6822 - val_accuracy: 0.0248\n",
            "Epoch 28/100\n",
            "2/2 [==============================] - 7s 2s/step - loss: 0.5788 - accuracy: 0.3564 - val_loss: 0.6824 - val_accuracy: 0.0281\n",
            "Epoch 29/100\n",
            "2/2 [==============================] - 7s 2s/step - loss: 0.5769 - accuracy: 0.3362 - val_loss: 0.6824 - val_accuracy: 0.0317\n",
            "Epoch 30/100\n",
            "2/2 [==============================] - 7s 2s/step - loss: 0.5770 - accuracy: 0.3257 - val_loss: 0.6823 - val_accuracy: 0.0364\n",
            "Epoch 31/100\n",
            "2/2 [==============================] - 7s 2s/step - loss: 0.5772 - accuracy: 0.3155 - val_loss: 0.6825 - val_accuracy: 0.0373\n",
            "Epoch 32/100\n",
            "2/2 [==============================] - 7s 2s/step - loss: 0.5771 - accuracy: 0.3111 - val_loss: 0.6826 - val_accuracy: 0.0341\n",
            "Epoch 33/100\n",
            "2/2 [==============================] - 7s 2s/step - loss: 0.5794 - accuracy: 0.3141 - val_loss: 0.6826 - val_accuracy: 0.0335\n",
            "Epoch 34/100\n",
            "2/2 [==============================] - 7s 2s/step - loss: 0.5778 - accuracy: 0.3164 - val_loss: 0.6825 - val_accuracy: 0.0367\n",
            "Epoch 35/100\n",
            "2/2 [==============================] - 7s 2s/step - loss: 0.5771 - accuracy: 0.3257 - val_loss: 0.6822 - val_accuracy: 0.0430\n",
            "Epoch 36/100\n",
            "2/2 [==============================] - 7s 2s/step - loss: 0.5788 - accuracy: 0.3264 - val_loss: 0.6821 - val_accuracy: 0.0487\n",
            "Epoch 37/100\n",
            "2/2 [==============================] - 7s 2s/step - loss: 0.5774 - accuracy: 0.3268 - val_loss: 0.6818 - val_accuracy: 0.0525\n",
            "Epoch 38/100\n",
            "2/2 [==============================] - 7s 2s/step - loss: 0.5762 - accuracy: 0.3283 - val_loss: 0.6814 - val_accuracy: 0.0578\n",
            "Epoch 39/100\n",
            "2/2 [==============================] - 7s 2s/step - loss: 0.5759 - accuracy: 0.3298 - val_loss: 0.6806 - val_accuracy: 0.0694\n",
            "Epoch 40/100\n",
            "2/2 [==============================] - 7s 2s/step - loss: 0.5774 - accuracy: 0.3311 - val_loss: 0.6796 - val_accuracy: 0.0813\n",
            "Epoch 41/100\n",
            "2/2 [==============================] - 7s 2s/step - loss: 0.5759 - accuracy: 0.3286 - val_loss: 0.6790 - val_accuracy: 0.0768\n",
            "Epoch 42/100\n",
            "2/2 [==============================] - 7s 2s/step - loss: 0.5796 - accuracy: 0.3323 - val_loss: 0.6784 - val_accuracy: 0.0750\n",
            "Epoch 43/100\n",
            "2/2 [==============================] - 7s 2s/step - loss: 0.5755 - accuracy: 0.3370 - val_loss: 0.6776 - val_accuracy: 0.0859\n",
            "Epoch 44/100\n",
            "2/2 [==============================] - 7s 2s/step - loss: 0.5754 - accuracy: 0.3299 - val_loss: 0.6769 - val_accuracy: 0.0944\n",
            "Epoch 45/100\n",
            "2/2 [==============================] - 7s 2s/step - loss: 0.5772 - accuracy: 0.3228 - val_loss: 0.6762 - val_accuracy: 0.0959\n",
            "Epoch 46/100\n",
            "2/2 [==============================] - 7s 2s/step - loss: 0.5758 - accuracy: 0.3241 - val_loss: 0.6746 - val_accuracy: 0.1047\n",
            "Epoch 47/100\n",
            "2/2 [==============================] - 7s 2s/step - loss: 0.5754 - accuracy: 0.3275 - val_loss: 0.6728 - val_accuracy: 0.1176\n",
            "Epoch 48/100\n",
            "2/2 [==============================] - 7s 2s/step - loss: 0.5748 - accuracy: 0.3247 - val_loss: 0.6711 - val_accuracy: 0.1407\n",
            "Epoch 49/100\n",
            "2/2 [==============================] - 7s 2s/step - loss: 0.5754 - accuracy: 0.3237 - val_loss: 0.6699 - val_accuracy: 0.1625\n",
            "Epoch 50/100\n",
            "2/2 [==============================] - 7s 2s/step - loss: 0.5774 - accuracy: 0.3285 - val_loss: 0.6691 - val_accuracy: 0.1861\n",
            "Epoch 51/100\n",
            "2/2 [==============================] - 7s 2s/step - loss: 0.5765 - accuracy: 0.3402 - val_loss: 0.6672 - val_accuracy: 0.2140\n",
            "Epoch 52/100\n",
            "2/2 [==============================] - 7s 2s/step - loss: 0.5747 - accuracy: 0.3369 - val_loss: 0.6650 - val_accuracy: 0.2236\n",
            "Epoch 53/100\n",
            "2/2 [==============================] - 7s 2s/step - loss: 0.5805 - accuracy: 0.3229 - val_loss: 0.6641 - val_accuracy: 0.2181\n",
            "Epoch 54/100\n",
            "2/2 [==============================] - 7s 2s/step - loss: 0.5802 - accuracy: 0.3240 - val_loss: 0.6631 - val_accuracy: 0.2206\n",
            "Epoch 55/100\n",
            "2/2 [==============================] - 7s 2s/step - loss: 0.5758 - accuracy: 0.3331 - val_loss: 0.6616 - val_accuracy: 0.2494\n",
            "Epoch 56/100\n",
            "2/2 [==============================] - 7s 2s/step - loss: 0.5763 - accuracy: 0.3275 - val_loss: 0.6606 - val_accuracy: 0.2830\n",
            "Epoch 57/100\n",
            "2/2 [==============================] - 7s 2s/step - loss: 0.5771 - accuracy: 0.3259 - val_loss: 0.6598 - val_accuracy: 0.2970\n",
            "Epoch 58/100\n",
            "2/2 [==============================] - 7s 2s/step - loss: 0.5752 - accuracy: 0.3315 - val_loss: 0.6590 - val_accuracy: 0.3066\n",
            "Epoch 59/100\n",
            "2/2 [==============================] - 7s 2s/step - loss: 0.5747 - accuracy: 0.3351 - val_loss: 0.6577 - val_accuracy: 0.3313\n",
            "Epoch 60/100\n",
            "2/2 [==============================] - 7s 2s/step - loss: 0.5739 - accuracy: 0.3337 - val_loss: 0.6575 - val_accuracy: 0.3372\n",
            "Epoch 61/100\n",
            "2/2 [==============================] - 7s 2s/step - loss: 0.5738 - accuracy: 0.3322 - val_loss: 0.6584 - val_accuracy: 0.3241\n",
            "Epoch 62/100\n",
            "2/2 [==============================] - 7s 2s/step - loss: 0.5738 - accuracy: 0.3295 - val_loss: 0.6582 - val_accuracy: 0.3193\n",
            "Epoch 63/100\n",
            "2/2 [==============================] - 7s 2s/step - loss: 0.5750 - accuracy: 0.3241 - val_loss: 0.6568 - val_accuracy: 0.3290\n",
            "Epoch 64/100\n",
            "2/2 [==============================] - 7s 2s/step - loss: 0.5761 - accuracy: 0.3213 - val_loss: 0.6567 - val_accuracy: 0.3323\n",
            "Epoch 65/100\n",
            "2/2 [==============================] - 7s 2s/step - loss: 0.5736 - accuracy: 0.3348 - val_loss: 0.6566 - val_accuracy: 0.3420\n",
            "Epoch 66/100\n",
            "2/2 [==============================] - 7s 2s/step - loss: 0.5850 - accuracy: 0.3418 - val_loss: 0.6546 - val_accuracy: 0.3731\n",
            "Epoch 67/100\n",
            "2/2 [==============================] - 7s 2s/step - loss: 0.5776 - accuracy: 0.3447 - val_loss: 0.6520 - val_accuracy: 0.4008\n",
            "Epoch 68/100\n",
            "2/2 [==============================] - 7s 2s/step - loss: 0.5739 - accuracy: 0.3451 - val_loss: 0.6513 - val_accuracy: 0.4148\n",
            "Epoch 69/100\n",
            "2/2 [==============================] - 7s 2s/step - loss: 0.5759 - accuracy: 0.3353 - val_loss: 0.6500 - val_accuracy: 0.4255\n",
            "Epoch 70/100\n",
            "2/2 [==============================] - 7s 2s/step - loss: 0.5749 - accuracy: 0.3343 - val_loss: 0.6476 - val_accuracy: 0.4374\n",
            "Epoch 71/100\n",
            "2/2 [==============================] - 7s 2s/step - loss: 0.5807 - accuracy: 0.3279 - val_loss: 0.6468 - val_accuracy: 0.4363\n",
            "Epoch 72/100\n",
            "2/2 [==============================] - 7s 2s/step - loss: 0.5732 - accuracy: 0.3276 - val_loss: 0.6476 - val_accuracy: 0.4246\n",
            "Epoch 73/100\n",
            "2/2 [==============================] - 7s 2s/step - loss: 0.5729 - accuracy: 0.3345 - val_loss: 0.6484 - val_accuracy: 0.4119\n",
            "Epoch 74/100\n",
            "2/2 [==============================] - 7s 2s/step - loss: 0.5737 - accuracy: 0.3340 - val_loss: 0.6481 - val_accuracy: 0.4095\n",
            "Epoch 75/100\n",
            "2/2 [==============================] - 7s 2s/step - loss: 0.5749 - accuracy: 0.3315 - val_loss: 0.6478 - val_accuracy: 0.4230\n",
            "Epoch 76/100\n",
            "2/2 [==============================] - 7s 2s/step - loss: 0.5735 - accuracy: 0.3345 - val_loss: 0.6484 - val_accuracy: 0.4383\n",
            "Epoch 77/100\n",
            "2/2 [==============================] - 7s 2s/step - loss: 0.5792 - accuracy: 0.3282 - val_loss: 0.6455 - val_accuracy: 0.4342\n",
            "Epoch 78/100\n",
            "2/2 [==============================] - 7s 2s/step - loss: 0.5729 - accuracy: 0.3329 - val_loss: 0.6413 - val_accuracy: 0.4248\n",
            "Epoch 79/100\n",
            "2/2 [==============================] - 7s 2s/step - loss: 0.5740 - accuracy: 0.3253 - val_loss: 0.6396 - val_accuracy: 0.4261\n",
            "Epoch 80/100\n",
            "2/2 [==============================] - 7s 2s/step - loss: 0.5741 - accuracy: 0.3227 - val_loss: 0.6390 - val_accuracy: 0.4351\n",
            "Epoch 81/100\n",
            "2/2 [==============================] - 7s 2s/step - loss: 0.5728 - accuracy: 0.3277 - val_loss: 0.6390 - val_accuracy: 0.4502\n",
            "Epoch 82/100\n",
            "2/2 [==============================] - 7s 2s/step - loss: 0.5726 - accuracy: 0.3301 - val_loss: 0.6392 - val_accuracy: 0.4642\n",
            "Epoch 83/100\n",
            "2/2 [==============================] - 7s 2s/step - loss: 0.5737 - accuracy: 0.3283 - val_loss: 0.6398 - val_accuracy: 0.4649\n",
            "Epoch 84/100\n",
            "2/2 [==============================] - 7s 2s/step - loss: 0.5726 - accuracy: 0.3285 - val_loss: 0.6395 - val_accuracy: 0.4585\n",
            "Epoch 85/100\n",
            "2/2 [==============================] - 7s 2s/step - loss: 0.5731 - accuracy: 0.3280 - val_loss: 0.6382 - val_accuracy: 0.4525\n",
            "Epoch 86/100\n",
            "2/2 [==============================] - 7s 2s/step - loss: 0.5754 - accuracy: 0.3319 - val_loss: 0.6371 - val_accuracy: 0.4523\n",
            "Epoch 87/100\n",
            "2/2 [==============================] - 7s 2s/step - loss: 0.5749 - accuracy: 0.3358 - val_loss: 0.6370 - val_accuracy: 0.4530\n",
            "Epoch 88/100\n",
            "2/2 [==============================] - 7s 2s/step - loss: 0.5751 - accuracy: 0.3398 - val_loss: 0.6384 - val_accuracy: 0.4476\n",
            "Epoch 89/100\n",
            "2/2 [==============================] - 7s 2s/step - loss: 0.5742 - accuracy: 0.3436 - val_loss: 0.6385 - val_accuracy: 0.4445\n",
            "Epoch 90/100\n",
            "2/2 [==============================] - 7s 2s/step - loss: 0.5739 - accuracy: 0.3403 - val_loss: 0.6367 - val_accuracy: 0.4467\n",
            "Epoch 91/100\n",
            "2/2 [==============================] - 7s 2s/step - loss: 0.5733 - accuracy: 0.3378 - val_loss: 0.6329 - val_accuracy: 0.4576\n",
            "Epoch 92/100\n",
            "2/2 [==============================] - 7s 2s/step - loss: 0.5723 - accuracy: 0.3350 - val_loss: 0.6294 - val_accuracy: 0.4668\n",
            "Epoch 93/100\n",
            "2/2 [==============================] - 7s 2s/step - loss: 0.5723 - accuracy: 0.3305 - val_loss: 0.6290 - val_accuracy: 0.4699\n",
            "Epoch 94/100\n",
            "2/2 [==============================] - 7s 2s/step - loss: 0.5737 - accuracy: 0.3319 - val_loss: 0.6295 - val_accuracy: 0.4788\n",
            "Epoch 95/100\n",
            "2/2 [==============================] - 7s 2s/step - loss: 0.5724 - accuracy: 0.3291 - val_loss: 0.6282 - val_accuracy: 0.4891\n",
            "Epoch 96/100\n",
            "2/2 [==============================] - 7s 2s/step - loss: 0.5745 - accuracy: 0.3243 - val_loss: 0.6279 - val_accuracy: 0.4794\n",
            "Epoch 97/100\n",
            "2/2 [==============================] - 7s 2s/step - loss: 0.5732 - accuracy: 0.3290 - val_loss: 0.6285 - val_accuracy: 0.4673\n",
            "Epoch 98/100\n",
            "2/2 [==============================] - 7s 2s/step - loss: 0.5726 - accuracy: 0.3370 - val_loss: 0.6254 - val_accuracy: 0.4764\n",
            "Epoch 99/100\n",
            "2/2 [==============================] - 7s 2s/step - loss: 0.5719 - accuracy: 0.3316 - val_loss: 0.6222 - val_accuracy: 0.4888\n",
            "Epoch 100/100\n",
            "2/2 [==============================] - 7s 2s/step - loss: 0.5735 - accuracy: 0.3268 - val_loss: 0.6224 - val_accuracy: 0.4810\n"
          ]
        }
      ]
    },
    {
      "cell_type": "code",
      "metadata": {
        "id": "Zi6TcfeWtSSn",
        "colab": {
          "base_uri": "https://localhost:8080/"
        },
        "outputId": "c624f3e9-8cee-485f-a798-d120b90c52fb"
      },
      "source": [
        "print('Final training loss \\t', history.history['loss'][-1])\n",
        "\n",
        "print('Final Validation loss \\t', history.history['val_loss'][-1])"
      ],
      "execution_count": null,
      "outputs": [
        {
          "output_type": "stream",
          "name": "stdout",
          "text": [
            "Final training loss \t 0.5735342502593994\n",
            "Final Validation loss \t 0.622360348701477\n"
          ]
        }
      ]
    },
    {
      "cell_type": "code",
      "metadata": {
        "id": "pBBaiuBoqsJv",
        "colab": {
          "base_uri": "https://localhost:8080/",
          "height": 281
        },
        "outputId": "65eeb452-7e96-4905-ed18-de0c9d7bdb19"
      },
      "source": [
        "loss = history.history['loss']\n",
        "val_loss = history.history['val_loss']\n",
        "epochs = range(100)\n",
        "plt.figure()\n",
        "plt.plot(epochs, loss, 'bo', label='Training loss',c=\"green\")\n",
        "plt.plot(epochs, val_loss, 'b', label='Validation loss')\n",
        "plt.title('Training and validation loss')\n",
        "plt.legend()\n",
        "plt.show()"
      ],
      "execution_count": null,
      "outputs": [
        {
          "output_type": "display_data",
          "data": {
            "image/png": "[encoded data removed]",
            "text/plain": [
              "<Figure size 432x288 with 1 Axes>"
            ]
          },
          "metadata": {
            "needs_background": "light"
          }
        }
      ]
    },
    {
      "cell_type": "code",
      "metadata": {
        "id": "cv_PYVxMq0eQ"
      },
      "source": [
        "results = model.predict(noisy_test)"
      ],
      "execution_count": null,
      "outputs": []
    },
    {
      "cell_type": "code",
      "metadata": {
        "id": "N98yL3pOq4FU"
      },
      "source": [
        "image = np.random.randint(0, len(noisy_test))"
      ],
      "execution_count": null,
      "outputs": []
    },
    {
      "cell_type": "code",
      "metadata": {
        "colab": {
          "base_uri": "https://localhost:8080/",
          "height": 268
        },
        "id": "lHoCEYdyq8zQ",
        "outputId": "d670a4a1-5e6e-4612-e186-252b22052e1e"
      },
      "source": [
        "plt.imshow(noisy_test[image])\n",
        "plt.show()"
      ],
      "execution_count": null,
      "outputs": [
        {
          "output_type": "display_data",
          "data": {
            "image/png": "[encoded data removed]",
            "text/plain": [
              "<Figure size 432x288 with 1 Axes>"
            ]
          },
          "metadata": {
            "needs_background": "light"
          }
        }
      ]
    },
    {
      "cell_type": "code",
      "metadata": {
        "colab": {
          "base_uri": "https://localhost:8080/",
          "height": 268
        },
        "id": "0dFo-eQBq--D",
        "outputId": "476d83d3-2299-4e6c-e976-636f2486f125"
      },
      "source": [
        "plt.imshow(results[image])\n",
        "plt.show()"
      ],
      "execution_count": null,
      "outputs": [
        {
          "output_type": "display_data",
          "data": {
            "image/png": "[encoded data removed]",
            "text/plain": [
              "<Figure size 432x288 with 1 Axes>"
            ]
          },
          "metadata": {
            "needs_background": "light"
          }
        }
      ]
    },
    {
      "cell_type": "code",
      "metadata": {
        "colab": {
          "base_uri": "https://localhost:8080/",
          "height": 268
        },
        "id": "DackdRCurDlB",
        "outputId": "098232c9-45ea-4c88-a7a6-c623d2511d0a"
      },
      "source": [
        "plt.imshow(clean_test[image])\n",
        "plt.show()"
      ],
      "execution_count": null,
      "outputs": [
        {
          "output_type": "display_data",
          "data": {
            "image/png": "[encoded data removed]",
            "text/plain": [
              "<Figure size 432x288 with 1 Axes>"
            ]
          },
          "metadata": {
            "needs_background": "light"
          }
        }
      ]
    },
    {
      "cell_type": "code",
      "metadata": {
        "id": "ricUWSpX0Wec",
        "colab": {
          "base_uri": "https://localhost:8080/"
        },
        "outputId": "53a648df-a553-4d84-ea5c-e25933af92eb"
      },
      "source": [
        "from skimage.metrics import peak_signal_noise_ratio\n",
        "\n",
        "predicted_images = results\n",
        "psnr_original_mean = 0\n",
        "psnr_prediction_mean = 0\n",
        "\n",
        "for gt_img, noisy_img, predicted_img in zip(clean_test, noisy_test, predicted_images):\n",
        "    psnr_original_mean += peak_signal_noise_ratio(gt_img, noisy_img)\n",
        "    psnr_prediction_mean += peak_signal_noise_ratio(gt_img, predicted_img)\n",
        "\n",
        "psnr_original_mean/=clean_test.shape[0]\n",
        "psnr_prediction_mean/=clean_test.shape[0]\n",
        "print(\"Original average gt-noisy PSNR ->\", psnr_original_mean)\n",
        "print(\"Predicted average gt-predicted PSNR ->\", psnr_prediction_mean)"
      ],
      "execution_count": null,
      "outputs": [
        {
          "output_type": "stream",
          "name": "stdout",
          "text": [
            "Original average gt-noisy PSNR -> 12.987078554671072\n",
            "Predicted average gt-predicted PSNR -> 13.914005387473011\n"
          ]
        }
      ]
    },
    {
      "cell_type": "code",
      "metadata": {
        "id": "ULHuJGQyp27F",
        "colab": {
          "base_uri": "https://localhost:8080/"
        },
        "outputId": "ff63fa8e-465d-40dc-85d4-eb20f6ff2c8b"
      },
      "source": [
        "from skimage.metrics import structural_similarity as ssim\n",
        "\n",
        "predicted_images = results\n",
        "ssim_original_mean = 0\n",
        "ssim_prediction_mean = 0\n",
        "\n",
        "for gt_img, noisy_img, predicted_img in zip(clean_test, noisy_test, predicted_images):\n",
        "    ssim_original_mean += ssim(gt_img, noisy_img, multichannel=True, data_range=noisy_img.max() - noisy_img.min())\n",
        "    ssim_prediction_mean += ssim(gt_img, predicted_img, multichannel=True, data_range=predicted_img.max() - predicted_img.min())\n",
        "\n",
        "ssim_original_mean/=clean_test.shape[0]\n",
        "ssim_prediction_mean/=clean_test.shape[0]\n",
        "print(\"Original average gt-noisy SSIM ->\", ssim_original_mean)\n",
        "print(\"Predicted average gt-predicted SSIM ->\", ssim_prediction_mean)"
      ],
      "execution_count": null,
      "outputs": [
        {
          "output_type": "stream",
          "name": "stdout",
          "text": [
            "Original average gt-noisy SSIM -> 0.13908658499223342\n",
            "Predicted average gt-predicted SSIM -> 0.26662771294457227\n"
          ]
        }
      ]
    },
    {
      "cell_type": "code",
      "metadata": {
        "id": "YPGKWHK3zSn7"
      },
      "source": [
        ""
      ],
      "execution_count": null,
      "outputs": []
    }
  ]
}